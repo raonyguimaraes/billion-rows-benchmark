{
 "cells": [
  {
   "cell_type": "code",
   "execution_count": null,
   "metadata": {},
   "outputs": [],
   "source": [
    "%%time\n",
    "#this is the time to read the file\n",
    "\n",
    "%run ./scripts/insert_data.py"
   ]
  },
  {
   "cell_type": "code",
   "execution_count": 55,
   "metadata": {},
   "outputs": [],
   "source": [
    "#rebuild database\n",
    "conn.close()\n",
    "#createuser -P -w raony\n"
   ]
  },
  {
   "cell_type": "code",
   "execution_count": 56,
   "metadata": {},
   "outputs": [],
   "source": [
    "%%bash\n",
    "\n",
    "dropdb bench"
   ]
  },
  {
   "cell_type": "code",
   "execution_count": 57,
   "metadata": {},
   "outputs": [
    {
     "name": "stdout",
     "output_type": "stream",
     "text": [
      "CREATE TABLE\n",
      "CREATE SEQUENCE\n",
      "CREATE TABLE\n",
      "CREATE SEQUENCE\n",
      "CREATE INDEX\n",
      "ALTER TABLE\n",
      "GRANT\n",
      "ALTER TABLE\n"
     ]
    }
   ],
   "source": [
    "%%bash\n",
    "\n",
    "createdb bench\n",
    "psql bench -f scripts/create_table.sql"
   ]
  },
  {
   "cell_type": "code",
   "execution_count": 58,
   "metadata": {},
   "outputs": [
    {
     "name": "stdout",
     "output_type": "stream",
     "text": [
      "CPU times: user 1min 8s, sys: 10.6 s, total: 1min 18s\n",
      "Wall time: 2min 2s\n"
     ]
    }
   ],
   "source": [
    "%%time\n",
    "#this is the time to parse\n",
    "\n",
    "%run ./scripts/insert_data.py"
   ]
  },
  {
   "cell_type": "code",
   "execution_count": 13,
   "metadata": {},
   "outputs": [],
   "source": [
    "%matplotlib inline"
   ]
  },
  {
   "cell_type": "code",
   "execution_count": 59,
   "metadata": {},
   "outputs": [
    {
     "data": {
      "image/png": "[encoded data removed]",
      "text/plain": [
       "<matplotlib.figure.Figure at 0x7febb18b2828>"
      ]
     },
     "metadata": {},
     "output_type": "display_data"
    }
   ],
   "source": [
    "from matplotlib.ticker import FuncFormatter\n",
    "import matplotlib.pyplot as plt\n",
    "import numpy as np\n",
    "\n",
    "x = np.arange(5)\n",
    "time = [122, 2, 3, 4, 5]\n",
    "\n",
    "fig, ax = plt.subplots()\n",
    "#x.yaxis.set_major_formatter(time)\n",
    "plt.plot(x, time, 'o')\n",
    "#plt.bar(x, time)\n",
    "plt.xticks(x, ('PostgreSQL', 'MongoDB', 'Hail', 'Mysql', 'Elastic Search'))\n",
    "plt.title('Insertion Time (less is better)');\n",
    "plt.ylabel('Time in (s)')\n",
    "plt.xlabel('Databases')\n",
    "plt.show()"
   ]
  },
  {
   "cell_type": "code",
   "execution_count": null,
   "metadata": {},
   "outputs": [],
   "source": [
    "from matplotlib.ticker import FuncFormatter\n",
    "import matplotlib.pyplot as plt\n",
    "import numpy as np\n",
    "\n",
    "x = np.arange(5)\n",
    "time = [1, 2, 3, 4, 5]\n",
    "\n",
    "\n",
    "# def millions(x, pos):\n",
    "#     'The two args are the value and tick position'\n",
    "#     return '$%1.1fM' % (x * 1e-6)\n",
    "\n",
    "\n",
    "#formatter = FuncFormatter(millions)\n",
    "\n",
    "fig, ax = plt.subplots()\n",
    "#x.yaxis.set_major_formatter(time)\n",
    "plt.plot(x, time, 'o')\n",
    "#plt.bar(x, time)\n",
    "plt.xticks(x, ('PostgreSQL', 'MongoDB', 'Hail', 'Mysql', 'Elastic Search'))\n",
    "plt.title('Select Time (less is better)');\n",
    "plt.ylabel('Time in (s)')\n",
    "plt.show()\n"
   ]
  },
  {
   "cell_type": "code",
   "execution_count": 26,
   "metadata": {},
   "outputs": [
    {
     "data": {
      "text/html": [
       "<iframe id=\"igraph\" scrolling=\"no\" style=\"border:none;\" seamless=\"seamless\" src=\"https://plot.ly/~RaonyGuimaraes2c9e/9.embed\" height=\"525px\" width=\"100%\"></iframe>"
      ],
      "text/plain": [
       "<plotly.tools.PlotlyDisplay object>"
      ]
     },
     "execution_count": 26,
     "metadata": {},
     "output_type": "execute_result"
    }
   ],
   "source": [
    "# Learn about API authentication here: https://plot.ly/pandas/getting-started\n",
    "# Find your api_key here: https://plot.ly/settings/api\n",
    "import plotly.plotly as py\n",
    "import plotly.graph_objs as go\n",
    "from plotly.offline import download_plotlyjs, init_notebook_mode, plot, iplot\n",
    "import plotly\n",
    "# Create random data with numpy\n",
    "import numpy as np\n",
    "\n",
    "df = pd.read_csv('http://www.stat.ubc.ca/~jenny/notOcto/STAT545A/examples/gapminder/data/gapminderDataFiveYear.txt', sep='\\t')\n",
    "df2007 = df[df.year==2007]\n",
    "df1952 = df[df.year==1952]\n",
    "df.head(2)\n",
    "\n",
    "fig = {\n",
    "    'data': [\n",
    "        {\n",
    "            'x': df[df['year']==year]['gdpPercap'],\n",
    "            'y': df[df['year']==year]['lifeExp'],\n",
    "            'name': year, 'mode': 'markers',\n",
    "        } for year in [1952, 1982, 2007]\n",
    "    ],\n",
    "    'layout': {\n",
    "        'xaxis': {'title': 'GDP per Capita', 'type': 'log'},\n",
    "        'yaxis': {'title': \"Life Expectancy\"}\n",
    "    }\n",
    "}\n",
    "\n",
    "# IPython notebook\n",
    "# py.iplot(fig, filename='pandas/grouped-scatter')\n",
    "\n",
    "#fig = Figure(data=data, layout=layout)\n",
    "py.iplot(fig, filename='parametric_plot')\n",
    "#plotly.offline.plot(fig)\n"
   ]
  }
 ],
 "metadata": {
  "kernelspec": {
   "display_name": "Python 3",
   "language": "python",
   "name": "python3"
  },
  "language_info": {
   "codemirror_mode": {
    "name": "ipython",
    "version": 3
   },
   "file_extension": ".py",
   "mimetype": "text/x-python",
   "name": "python",
   "nbconvert_exporter": "python",
   "pygments_lexer": "ipython3",
   "version": "3.6.3"
  }
 },
 "nbformat": 4,
 "nbformat_minor": 2
}
